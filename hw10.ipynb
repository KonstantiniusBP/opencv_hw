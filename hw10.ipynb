{
 "cells": [
  {
   "cell_type": "markdown",
   "id": "d2b36edc-c796-47be-81fe-c8f0758da78f",
   "metadata": {},
   "source": [
    "### Questions\n",
    "* Do you see any differences? If so, what are they?\n",
    "\n",
    "I can't really say i noticed much of a difference. Maybe i should experiment with different videos\n",
    "\n",
    "\n",
    "* Does one tracker perform better than the other? In what way?\n",
    "\n",
    "Again, since there was no significant difference in my example, it's hard to give a definitive answer. However, from what i've read, if you need a fast and stable tracker, you can use KCF. But if the object changes a lot, i think CSRT will handle it better than KCF.\n",
    "\n"
   ]
  },
  {
   "cell_type": "code",
   "execution_count": null,
   "id": "e9fe3f74-4140-475a-a41b-afdef5b72350",
   "metadata": {},
   "outputs": [],
   "source": []
  }
 ],
 "metadata": {
  "kernelspec": {
   "display_name": "Python 3 (ipykernel)",
   "language": "python",
   "name": "python3"
  },
  "language_info": {
   "codemirror_mode": {
    "name": "ipython",
    "version": 3
   },
   "file_extension": ".py",
   "mimetype": "text/x-python",
   "name": "python",
   "nbconvert_exporter": "python",
   "pygments_lexer": "ipython3",
   "version": "3.12.4"
  }
 },
 "nbformat": 4,
 "nbformat_minor": 5
}
